{
 "cells": [
  {
   "cell_type": "code",
   "execution_count": 2,
   "id": "a6fdf1df",
   "metadata": {},
   "outputs": [],
   "source": [
    "import matplotlib.pyplot as plt\n",
    "import numpy as np\n",
    "import embedd_blocks as em_blocks\n",
    "import time\n",
    "import pegasos as pegasos\n",
    "\n",
    "from sklearn.datasets import load_svmlight_files"
   ]
  },
  {
   "cell_type": "code",
   "execution_count": 3,
   "id": "7e6037c9",
   "metadata": {},
   "outputs": [],
   "source": [
    "X_train, y_train, X_test, y_test = load_svmlight_files((\"a9a/a9a\", \"a9a/a9a.t\"))\n",
    "#X_train, y_train, X_test, y_test = load_svmlight_files((\"datasets/mnistbinary.train\", \"datasets/mnistbinary.test\"))"
   ]
  },
  {
   "cell_type": "code",
   "execution_count": 4,
   "id": "random-trinity",
   "metadata": {},
   "outputs": [
    {
     "data": {
      "text/plain": [
       "(32561, 123)"
      ]
     },
     "execution_count": 4,
     "metadata": {},
     "output_type": "execute_result"
    }
   ],
   "source": [
    "X_train.shape"
   ]
  },
  {
   "cell_type": "code",
   "execution_count": 3,
   "id": "purple-partition",
   "metadata": {},
   "outputs": [],
   "source": [
    "import pandas as pd\n",
    "\n",
    "from sklearn.datasets import load_files"
   ]
  },
  {
   "cell_type": "code",
   "execution_count": 4,
   "id": "concerned-holder",
   "metadata": {},
   "outputs": [],
   "source": [
    "data_train = pd.read_csv(\"datasets/mnistbinary.train\", header=None, delim_whitespace=True, skiprows=[0])\n",
    "#data_train = pd.read_csv(\"datasets/usps.train\", header=None, delim_whitespace=True, skiprows=[0])"
   ]
  },
  {
   "cell_type": "code",
   "execution_count": 5,
   "id": "polar-singing",
   "metadata": {},
   "outputs": [],
   "source": [
    "df_X_train = data_train.drop([0], axis=1)\n",
    "df_y_train = data_train[0]"
   ]
  },
  {
   "cell_type": "code",
   "execution_count": 6,
   "id": "exact-public",
   "metadata": {},
   "outputs": [
    {
     "data": {
      "text/plain": [
       "-1"
      ]
     },
     "execution_count": 6,
     "metadata": {},
     "output_type": "execute_result"
    }
   ],
   "source": [
    "df_y_train[11]"
   ]
  },
  {
   "cell_type": "code",
   "execution_count": 7,
   "id": "aging-effectiveness",
   "metadata": {},
   "outputs": [],
   "source": [
    "#X_train[0].toarray()\n",
    "X_train = df_X_train.to_numpy()\n",
    "y_train = df_y_train.to_numpy()"
   ]
  },
  {
   "cell_type": "code",
   "execution_count": 8,
   "id": "funded-magnet",
   "metadata": {},
   "outputs": [
    {
     "data": {
      "text/plain": [
       "<matplotlib.image.AxesImage at 0x7fc22cbed430>"
      ]
     },
     "execution_count": 8,
     "metadata": {},
     "output_type": "execute_result"
    },
    {
     "data": {
      "image/png": "[encoded data removed]",
      "text/plain": [
       "<Figure size 432x288 with 1 Axes>"
      ]
     },
     "metadata": {
      "needs_background": "light"
     },
     "output_type": "display_data"
    }
   ],
   "source": [
    "digit_pixels = X_train[11].reshape(28,28)\n",
    "plt.imshow(digit_pixels)"
   ]
  },
  {
   "cell_type": "code",
   "execution_count": 3,
   "id": "04ddbe07",
   "metadata": {},
   "outputs": [
    {
     "name": "stdout",
     "output_type": "stream",
     "text": [
      "(1, 780)\n",
      "(1, 4)\n",
      "(1, 784)\n",
      "2.0\n"
     ]
    },
    {
     "data": {
      "text/plain": [
       "<matplotlib.image.AxesImage at 0x7fbdf8f9b1f0>"
      ]
     },
     "execution_count": 3,
     "metadata": {},
     "output_type": "execute_result"
    },
    {
     "data": {
      "image/png": "[encoded data removed]",
      "text/plain": [
       "<Figure size 432x288 with 1 Axes>"
      ]
     },
     "metadata": {
      "needs_background": "light"
     },
     "output_type": "display_data"
    }
   ],
   "source": [
    "digit = X_train[5].toarray()\n",
    "print(digit.shape)\n",
    "a = np.array([[0,0,0,0]])\n",
    "print(a.shape)\n",
    "digit2 = np.hstack((digit, a))\n",
    "print(digit2.shape)\n",
    "print(y_train[5])\n",
    "digit_pixels = digit2.reshape(28,28)\n",
    "plt.imshow(digit_pixels)"
   ]
  },
  {
   "cell_type": "code",
   "execution_count": null,
   "id": "1c5204f7",
   "metadata": {},
   "outputs": [
    {
     "name": "stdout",
     "output_type": "stream",
     "text": [
      "time =  0.5035305023193359\n",
      "Accuracy = 84.8457% (5526/6513) (classification)\n"
     ]
    }
   ],
   "source": [
    "\n",
    "m_list = [100, 10000, 20000, 30000]\n",
    "lambda_list = [1, 0.1, 0.01 , 1e-03, 1e-04, 1e-05, 1e-06]\n",
    "\n",
    "#list for usps\n",
    "#m_list = [100, 1000, 3000, 5000]\n",
    "#lambda_list = [1, 0.8, 0.6, 0.3, 0.1, 0.01, 0.001]\n",
    "\n",
    "#m_list = [400]\n",
    "#lambda_list = [0.01]\n",
    "\n",
    "em_blocks.exec(X_train, y_train, m_list, lambda_list)"
   ]
  },
  {
   "cell_type": "code",
   "execution_count": 9,
   "id": "dedicated-hacker",
   "metadata": {},
   "outputs": [
    {
     "data": {
      "text/plain": [
       "array([0.   , 0.   , 0.   , 0.   , 0.   , 0.   , 0.   , 0.369, 1.862,\n",
       "       0.833, 0.   , 0.   , 0.   , 0.   , 0.   , 0.   , 0.   , 0.   ,\n",
       "       0.   , 0.   , 0.   , 0.   , 0.008, 1.297, 2.   , 1.307, 0.   ,\n",
       "       0.   , 0.   , 0.   , 0.   , 0.   , 0.   , 0.   , 0.   , 0.   ,\n",
       "       0.   , 0.   , 0.59 , 2.   , 1.986, 0.435, 0.   , 0.   , 0.   ,\n",
       "       0.   , 0.   , 0.   , 0.   , 0.   , 0.   , 0.   , 0.   , 0.317,\n",
       "       1.825, 2.   , 1.562, 0.   , 0.   , 0.   , 0.   , 0.   , 0.   ,\n",
       "       0.   , 0.   , 0.   , 0.   , 0.   , 0.062, 1.54 , 2.   , 1.778,\n",
       "       0.285, 0.   , 0.   , 0.   , 0.   , 0.   , 0.   , 0.   , 0.   ,\n",
       "       0.   , 0.   , 0.   , 1.1  , 2.   , 1.922, 0.561, 0.   , 0.   ,\n",
       "       0.   , 0.   , 0.   , 0.   , 0.   , 0.   , 0.   , 0.   , 0.   ,\n",
       "       0.743, 1.95 , 2.   , 0.838, 0.   , 0.   , 0.   , 0.013, 0.286,\n",
       "       0.168, 0.   , 0.   , 0.   , 0.   , 0.   , 0.203, 1.909, 2.   ,\n",
       "       1.3  , 0.039, 0.   , 0.   , 0.45 , 1.485, 1.996, 1.867, 1.092,\n",
       "       0.   , 0.   , 0.   , 0.   , 1.278, 2.   , 1.877, 0.176, 0.   ,\n",
       "       0.095, 1.145, 1.977, 2.   , 2.   , 2.   , 1.99 , 0.255, 0.   ,\n",
       "       0.   , 0.05 , 1.847, 2.   , 1.327, 0.   , 0.   , 1.355, 2.   ,\n",
       "       1.655, 0.891, 0.815, 2.   , 1.988, 0.277, 0.   , 0.   , 0.37 ,\n",
       "       2.   , 2.   , 1.068, 0.075, 1.113, 1.96 , 1.308, 0.116, 0.   ,\n",
       "       0.925, 2.   , 1.641, 0.005, 0.   , 0.   , 0.323, 2.   , 2.   ,\n",
       "       1.753, 1.341, 2.   , 1.707, 0.058, 0.   , 0.   , 1.545, 2.   ,\n",
       "       1.027, 0.   , 0.   , 0.   , 0.097, 1.792, 2.   , 2.   , 2.   ,\n",
       "       2.   , 1.536, 1.184, 1.812, 1.837, 1.978, 1.864, 0.37 , 0.   ,\n",
       "       0.   , 0.   , 0.   , 0.548, 1.828, 2.   , 2.   , 2.   , 2.   ,\n",
       "       2.   , 2.   , 2.   , 2.   , 1.135, 0.   , 0.   , 0.   , 0.   ,\n",
       "       0.   , 0.   , 0.517, 1.813, 2.   , 2.   , 2.   , 2.   , 2.   ,\n",
       "       2.   , 1.219, 0.057, 0.   , 0.   , 0.   , 0.   , 0.   , 0.   ,\n",
       "       0.   , 0.026, 0.571, 1.304, 1.823, 2.   , 1.482, 0.526, 0.009,\n",
       "       0.   , 0.   , 0.   , 0.   ])"
      ]
     },
     "execution_count": 9,
     "metadata": {},
     "output_type": "execute_result"
    }
   ],
   "source": []
  },
  {
   "cell_type": "code",
   "execution_count": 5,
   "id": "hollywood-attribute",
   "metadata": {},
   "outputs": [
    {
     "name": "stdout",
     "output_type": "stream",
     "text": [
      "m = 400\n"
     ]
    },
    {
     "name": "stderr",
     "output_type": "stream",
     "text": [
      "/home/henryrodriguez/Documentos/Estudio/MSc/AML/Project/embedd_blocks.py:68: RuntimeWarning: invalid value encountered in sqrt\n",
      "  D_root=D**(0.5)\n"
     ]
    },
    {
     "name": "stdout",
     "output_type": "stream",
     "text": [
      "time =  0.9613502025604248\n"
     ]
    },
    {
     "name": "stderr",
     "output_type": "stream",
     "text": [
      "/home/henryrodriguez/anaconda3/envs/AML/lib/python3.8/site-packages/liblinear/commonutil.py:80: RuntimeWarning: Mean of empty slice.\n",
      "  ACC = 100.0*(ty == pv).mean()\n",
      "/home/henryrodriguez/anaconda3/envs/AML/lib/python3.8/site-packages/numpy/core/_methods.py:170: RuntimeWarning: invalid value encountered in double_scalars\n",
      "  ret = ret.dtype.type(ret / rcount)\n",
      "/home/henryrodriguez/anaconda3/envs/AML/lib/python3.8/site-packages/liblinear/commonutil.py:81: RuntimeWarning: Mean of empty slice.\n",
      "  MSE = ((ty - pv)**2).mean()\n"
     ]
    },
    {
     "ename": "ValueError",
     "evalue": "cannot convert float NaN to integer",
     "output_type": "error",
     "traceback": [
      "\u001b[0;31m---------------------------------------------------------------------------\u001b[0m",
      "\u001b[0;31mValueError\u001b[0m                                Traceback (most recent call last)",
      "\u001b[0;32m<ipython-input-5-626e8e88d519>\u001b[0m in \u001b[0;36m<module>\u001b[0;34m\u001b[0m\n\u001b[0;32m----> 1\u001b[0;31m \u001b[0mem_blocks\u001b[0m\u001b[0;34m.\u001b[0m\u001b[0mexec2\u001b[0m\u001b[0;34m(\u001b[0m\u001b[0mX_train\u001b[0m\u001b[0;34m,\u001b[0m \u001b[0my_train\u001b[0m\u001b[0;34m,\u001b[0m \u001b[0mm_list\u001b[0m\u001b[0;34m,\u001b[0m \u001b[0mlambda_list\u001b[0m\u001b[0;34m)\u001b[0m\u001b[0;34m\u001b[0m\u001b[0;34m\u001b[0m\u001b[0m\n\u001b[0m",
      "\u001b[0;32m~/Documentos/Estudio/MSc/AML/Project/embedd_blocks.py\u001b[0m in \u001b[0;36mexec2\u001b[0;34m(X, y, m_list, lambda_list)\u001b[0m\n\u001b[1;32m    124\u001b[0m             \u001b[0mX_m\u001b[0m\u001b[0;34m=\u001b[0m\u001b[0mcalculate_embedd_blocks\u001b[0m\u001b[0;34m(\u001b[0m\u001b[0mX\u001b[0m\u001b[0;34m,\u001b[0m\u001b[0my\u001b[0m\u001b[0;34m,\u001b[0m\u001b[0mm\u001b[0m\u001b[0;34m)\u001b[0m\u001b[0;34m\u001b[0m\u001b[0;34m\u001b[0m\u001b[0m\n\u001b[1;32m    125\u001b[0m             \u001b[0mmodel\u001b[0m \u001b[0;34m=\u001b[0m \u001b[0mtrain\u001b[0m\u001b[0;34m(\u001b[0m\u001b[0my\u001b[0m\u001b[0;34m[\u001b[0m\u001b[0;34m:\u001b[0m\u001b[0;36m80000\u001b[0m\u001b[0;34m]\u001b[0m\u001b[0;34m,\u001b[0m \u001b[0mX_m\u001b[0m\u001b[0;34m[\u001b[0m\u001b[0;34m:\u001b[0m\u001b[0;36m80000\u001b[0m\u001b[0;34m]\u001b[0m\u001b[0;34m,\u001b[0m \u001b[0;34m'-s 3 -c {}'\u001b[0m\u001b[0;34m.\u001b[0m\u001b[0mformat\u001b[0m\u001b[0;34m(\u001b[0m\u001b[0;36m1.\u001b[0m\u001b[0;34m/\u001b[0m\u001b[0;34m(\u001b[0m\u001b[0;36m2.\u001b[0m\u001b[0;34m*\u001b[0m\u001b[0mlam\u001b[0m\u001b[0;34m)\u001b[0m\u001b[0;34m)\u001b[0m\u001b[0;34m)\u001b[0m\u001b[0;34m\u001b[0m\u001b[0;34m\u001b[0m\u001b[0m\n\u001b[0;32m--> 126\u001b[0;31m             \u001b[0mp_label\u001b[0m\u001b[0;34m,\u001b[0m \u001b[0mp_acc\u001b[0m\u001b[0;34m,\u001b[0m \u001b[0mp_val\u001b[0m \u001b[0;34m=\u001b[0m \u001b[0mpredict\u001b[0m\u001b[0;34m(\u001b[0m\u001b[0my\u001b[0m\u001b[0;34m[\u001b[0m\u001b[0;36m80000\u001b[0m\u001b[0;34m:\u001b[0m\u001b[0;34m]\u001b[0m\u001b[0;34m,\u001b[0m \u001b[0mX_m\u001b[0m\u001b[0;34m[\u001b[0m\u001b[0;36m80000\u001b[0m\u001b[0;34m:\u001b[0m\u001b[0;34m]\u001b[0m\u001b[0;34m,\u001b[0m \u001b[0mmodel\u001b[0m\u001b[0;34m)\u001b[0m\u001b[0;34m\u001b[0m\u001b[0;34m\u001b[0m\u001b[0m\n\u001b[0m\u001b[1;32m    127\u001b[0m             \u001b[0moutput\u001b[0m\u001b[0;34m[\u001b[0m\u001b[0mj\u001b[0m\u001b[0;34m,\u001b[0m\u001b[0mi\u001b[0m\u001b[0;34m]\u001b[0m\u001b[0;34m=\u001b[0m\u001b[0mp_acc\u001b[0m\u001b[0;34m[\u001b[0m\u001b[0;36m0\u001b[0m\u001b[0;34m]\u001b[0m\u001b[0;34m\u001b[0m\u001b[0;34m\u001b[0m\u001b[0m\n\u001b[1;32m    128\u001b[0m     \u001b[0moutput\u001b[0m\u001b[0;34m=\u001b[0m\u001b[0mpd\u001b[0m\u001b[0;34m.\u001b[0m\u001b[0mDataFrame\u001b[0m\u001b[0;34m(\u001b[0m\u001b[0moutput\u001b[0m\u001b[0;34m,\u001b[0m\u001b[0mindex\u001b[0m\u001b[0;34m=\u001b[0m\u001b[0mlambda_list\u001b[0m\u001b[0;34m,\u001b[0m\u001b[0mcolumns\u001b[0m\u001b[0;34m=\u001b[0m\u001b[0mm_list\u001b[0m\u001b[0;34m)\u001b[0m\u001b[0;34m\u001b[0m\u001b[0;34m\u001b[0m\u001b[0m\n",
      "\u001b[0;32m~/anaconda3/envs/AML/lib/python3.8/site-packages/liblinear/liblinearutil.py\u001b[0m in \u001b[0;36mpredict\u001b[0;34m(y, x, m, options)\u001b[0m\n\u001b[1;32m    278\u001b[0m         \u001b[0minfo\u001b[0m\u001b[0;34m(\u001b[0m\u001b[0;34m\"Squared correlation coefficient = %g (regression)\"\u001b[0m \u001b[0;34m%\u001b[0m \u001b[0mSCC\u001b[0m\u001b[0;34m)\u001b[0m\u001b[0;34m\u001b[0m\u001b[0;34m\u001b[0m\u001b[0m\n\u001b[1;32m    279\u001b[0m     \u001b[0;32melse\u001b[0m\u001b[0;34m:\u001b[0m\u001b[0;34m\u001b[0m\u001b[0;34m\u001b[0m\u001b[0m\n\u001b[0;32m--> 280\u001b[0;31m         \u001b[0minfo\u001b[0m\u001b[0;34m(\u001b[0m\u001b[0;34m\"Accuracy = %g%% (%d/%d) (classification)\"\u001b[0m \u001b[0;34m%\u001b[0m \u001b[0;34m(\u001b[0m\u001b[0mACC\u001b[0m\u001b[0;34m,\u001b[0m \u001b[0mint\u001b[0m\u001b[0;34m(\u001b[0m\u001b[0mround\u001b[0m\u001b[0;34m(\u001b[0m\u001b[0mnr_instance\u001b[0m\u001b[0;34m*\u001b[0m\u001b[0mACC\u001b[0m\u001b[0;34m/\u001b[0m\u001b[0;36m100\u001b[0m\u001b[0;34m)\u001b[0m\u001b[0;34m)\u001b[0m\u001b[0;34m,\u001b[0m \u001b[0mnr_instance\u001b[0m\u001b[0;34m)\u001b[0m\u001b[0;34m)\u001b[0m\u001b[0;34m\u001b[0m\u001b[0;34m\u001b[0m\u001b[0m\n\u001b[0m\u001b[1;32m    281\u001b[0m \u001b[0;34m\u001b[0m\u001b[0m\n\u001b[1;32m    282\u001b[0m     \u001b[0;32mreturn\u001b[0m \u001b[0mpred_labels\u001b[0m\u001b[0;34m,\u001b[0m \u001b[0;34m(\u001b[0m\u001b[0mACC\u001b[0m\u001b[0;34m,\u001b[0m \u001b[0mMSE\u001b[0m\u001b[0;34m,\u001b[0m \u001b[0mSCC\u001b[0m\u001b[0;34m)\u001b[0m\u001b[0;34m,\u001b[0m \u001b[0mpred_values\u001b[0m\u001b[0;34m\u001b[0m\u001b[0;34m\u001b[0m\u001b[0m\n",
      "\u001b[0;31mValueError\u001b[0m: cannot convert float NaN to integer"
     ]
    }
   ],
   "source": [
    "em_blocks.exec2(X_train, y_train, m_list, lambda_list)"
   ]
  },
  {
   "cell_type": "code",
   "execution_count": 4,
   "id": "721463c4",
   "metadata": {},
   "outputs": [
    {
     "name": "stdout",
     "output_type": "stream",
     "text": [
      "acc 0.80966 in 1.853590 seconds\n"
     ]
    }
   ],
   "source": [
    "model = pegasos.PegasosSVMClassifier()\n",
    "start = time.time()\n",
    "model.fit(X_train.toarray(), y_train)\n",
    "end = time.time()\n",
    "score = model.score(X_test.toarray(), y_test)\n",
    "\n",
    "print('acc %.5f in %f seconds' % (score, end-start))"
   ]
  },
  {
   "cell_type": "code",
   "execution_count": null,
   "id": "cbbe6567",
   "metadata": {},
   "outputs": [],
   "source": []
  }
 ],
 "metadata": {
  "kernelspec": {
   "display_name": "Python 3",
   "language": "python",
   "name": "python3"
  },
  "language_info": {
   "codemirror_mode": {
    "name": "ipython",
    "version": 3
   },
   "file_extension": ".py",
   "mimetype": "text/x-python",
   "name": "python",
   "nbconvert_exporter": "python",
   "pygments_lexer": "ipython3",
   "version": "3.8.8"
  }
 },
 "nbformat": 4,
 "nbformat_minor": 5
}
