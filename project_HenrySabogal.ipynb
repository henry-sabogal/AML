{
 "cells": [
  {
   "cell_type": "code",
   "execution_count": 3,
   "id": "a6fdf1df",
   "metadata": {},
   "outputs": [],
   "source": [
    "import matplotlib.pyplot as plt\n",
    "import numpy as np\n",
    "import embedd_blocks as em_blocks\n",
    "import time\n",
    "#import pegasos as pegasos\n",
    "\n",
    "from sklearn.datasets import load_svmlight_files"
   ]
  },
  {
   "cell_type": "code",
   "execution_count": 4,
   "id": "7e6037c9",
   "metadata": {},
   "outputs": [],
   "source": [
    "#X_train, y_train, X_test, y_test = load_svmlight_files((\"a9a/a9a\", \"a9a/a9a.t\"))\n",
    "#X_train, y_train, X_test, y_test = load_svmlight_files((\"datasets/mnistbinary.train\", \"datasets/mnistbinary.test\"))"
   ]
  },
  {
   "cell_type": "code",
   "execution_count": 5,
   "id": "purple-partition",
   "metadata": {},
   "outputs": [],
   "source": [
    "import pandas as pd\n",
    "\n",
    "from sklearn.datasets import load_files"
   ]
  },
  {
   "cell_type": "code",
   "execution_count": 6,
   "id": "concerned-holder",
   "metadata": {},
   "outputs": [],
   "source": [
    "#data_train = pd.read_csv(\"datasets/mnistbinary.train\", header=None, delim_whitespace=True, skiprows=[0])\n",
    "data_train = pd.read_csv(\"datasets/usps.train\", header=None, delim_whitespace=True, skiprows=[0])"
   ]
  },
  {
   "cell_type": "code",
   "execution_count": 7,
   "id": "polar-singing",
   "metadata": {},
   "outputs": [],
   "source": [
    "df_X_train = data_train.drop([0], axis=1)\n",
    "df_y_train = data_train[0]"
   ]
  },
  {
   "cell_type": "code",
   "execution_count": 8,
   "id": "exact-public",
   "metadata": {},
   "outputs": [
    {
     "data": {
      "text/plain": [
       "-1"
      ]
     },
     "execution_count": 8,
     "metadata": {},
     "output_type": "execute_result"
    }
   ],
   "source": [
    "df_y_train[11]"
   ]
  },
  {
   "cell_type": "code",
   "execution_count": 9,
   "id": "aging-effectiveness",
   "metadata": {},
   "outputs": [],
   "source": [
    "#X_train[0].toarray()\n",
    "X_train = df_X_train.to_numpy()\n",
    "y_train = df_y_train.to_numpy()"
   ]
  },
  {
   "cell_type": "code",
   "execution_count": 10,
   "id": "funded-magnet",
   "metadata": {},
   "outputs": [
    {
     "ename": "ValueError",
     "evalue": "cannot reshape array of size 256 into shape (28,28)",
     "output_type": "error",
     "traceback": [
      "\u001b[0;31m---------------------------------------------------------------------------\u001b[0m",
      "\u001b[0;31mValueError\u001b[0m                                Traceback (most recent call last)",
      "\u001b[0;32m<ipython-input-10-6d8d837e4c3a>\u001b[0m in \u001b[0;36m<module>\u001b[0;34m\u001b[0m\n\u001b[0;32m----> 1\u001b[0;31m \u001b[0mdigit_pixels\u001b[0m \u001b[0;34m=\u001b[0m \u001b[0mX_train\u001b[0m\u001b[0;34m[\u001b[0m\u001b[0;36m11\u001b[0m\u001b[0;34m]\u001b[0m\u001b[0;34m.\u001b[0m\u001b[0mreshape\u001b[0m\u001b[0;34m(\u001b[0m\u001b[0;36m28\u001b[0m\u001b[0;34m,\u001b[0m\u001b[0;36m28\u001b[0m\u001b[0;34m)\u001b[0m\u001b[0;34m\u001b[0m\u001b[0;34m\u001b[0m\u001b[0m\n\u001b[0m\u001b[1;32m      2\u001b[0m \u001b[0mplt\u001b[0m\u001b[0;34m.\u001b[0m\u001b[0mimshow\u001b[0m\u001b[0;34m(\u001b[0m\u001b[0mdigit_pixels\u001b[0m\u001b[0;34m)\u001b[0m\u001b[0;34m\u001b[0m\u001b[0;34m\u001b[0m\u001b[0m\n",
      "\u001b[0;31mValueError\u001b[0m: cannot reshape array of size 256 into shape (28,28)"
     ]
    }
   ],
   "source": [
    "digit_pixels = X_train[11].reshape(28,28)\n",
    "plt.imshow(digit_pixels)"
   ]
  },
  {
   "cell_type": "code",
   "execution_count": 3,
   "id": "04ddbe07",
   "metadata": {},
   "outputs": [
    {
     "name": "stdout",
     "output_type": "stream",
     "text": [
      "(1, 780)\n",
      "(1, 4)\n",
      "(1, 784)\n",
      "2.0\n"
     ]
    },
    {
     "data": {
      "text/plain": [
       "<matplotlib.image.AxesImage at 0x7fbdf8f9b1f0>"
      ]
     },
     "execution_count": 3,
     "metadata": {},
     "output_type": "execute_result"
    },
    {
     "data": {
      "image/png": "[encoded data removed]",
      "text/plain": [
       "<Figure size 432x288 with 1 Axes>"
      ]
     },
     "metadata": {
      "needs_background": "light"
     },
     "output_type": "display_data"
    }
   ],
   "source": [
    "digit = X_train[5].toarray()\n",
    "print(digit.shape)\n",
    "a = np.array([[0,0,0,0]])\n",
    "print(a.shape)\n",
    "digit2 = np.hstack((digit, a))\n",
    "print(digit2.shape)\n",
    "print(y_train[5])\n",
    "digit_pixels = digit2.reshape(28,28)\n",
    "plt.imshow(digit_pixels)"
   ]
  },
  {
   "cell_type": "code",
   "execution_count": 8,
   "id": "1c5204f7",
   "metadata": {},
   "outputs": [
    {
     "name": "stdout",
     "output_type": "stream",
     "text": [
      "time =  0.0941464900970459\n",
      "Accuracy = 59.4243% (867/1459) (classification)\n",
      "time =  0.07664823532104492\n",
      "Accuracy = 94.4483% (1378/1459) (classification)\n",
      "time =  0.18706703186035156\n",
      "Accuracy = 95.5449% (1394/1459) (classification)\n",
      "time =  0.28206968307495117\n",
      "Accuracy = 96.0247% (1401/1459) (classification)\n",
      "time =  0.39986491203308105\n",
      "Accuracy = 96.2988% (1405/1459) (classification)\n",
      "time =  0.5670416355133057\n",
      "Accuracy = 96.573% (1409/1459) (classification)\n",
      "time =  0.00696253776550293\n",
      "Accuracy = 59.4243% (867/1459) (classification)\n",
      "time =  0.05967521667480469\n",
      "Accuracy = 95.8191% (1398/1459) (classification)\n",
      "time =  0.131544828414917\n",
      "Accuracy = 96.7786% (1412/1459) (classification)\n",
      "time =  0.24783563613891602\n",
      "Accuracy = 96.6415% (1410/1459) (classification)\n",
      "time =  0.5075879096984863\n",
      "Accuracy = 96.9842% (1415/1459) (classification)\n",
      "time =  0.520552396774292\n",
      "Accuracy = 97.464% (1422/1459) (classification)\n",
      "time =  0.006875514984130859\n",
      "Accuracy = 59.4243% (867/1459) (classification)\n",
      "time =  0.05950736999511719\n",
      "Accuracy = 95.682% (1396/1459) (classification)\n",
      "time =  0.13106274604797363\n",
      "Accuracy = 96.5045% (1408/1459) (classification)\n",
      "time =  0.22920632362365723\n",
      "Accuracy = 97.1213% (1417/1459) (classification)\n",
      "time =  0.3887827396392822\n",
      "Accuracy = 96.9842% (1415/1459) (classification)\n",
      "time =  0.5252835750579834\n",
      "Accuracy = 97.5326% (1423/1459) (classification)\n",
      "time =  0.00727391242980957\n",
      "Accuracy = 59.4243% (867/1459) (classification)\n",
      "time =  0.059417724609375\n",
      "Accuracy = 95.8191% (1398/1459) (classification)\n",
      "time =  0.1311945915222168\n",
      "Accuracy = 96.3674% (1406/1459) (classification)\n",
      "time =  0.23942017555236816\n",
      "Accuracy = 96.7101% (1411/1459) (classification)\n",
      "time =  0.3921525478363037\n",
      "Accuracy = 96.9157% (1414/1459) (classification)\n",
      "time =  0.5322906970977783\n",
      "Accuracy = 97.1899% (1418/1459) (classification)\n",
      "time =  0.006997585296630859\n",
      "Accuracy = 59.4243% (867/1459) (classification)\n",
      "time =  0.05961918830871582\n",
      "Accuracy = 95.5449% (1394/1459) (classification)\n",
      "time =  0.1335155963897705\n",
      "Accuracy = 96.2303% (1404/1459) (classification)\n",
      "time =  0.22577929496765137\n",
      "Accuracy = 96.2988% (1405/1459) (classification)\n",
      "time =  0.38123416900634766\n",
      "Accuracy = 96.7101% (1411/1459) (classification)\n",
      "time =  0.5818171501159668\n",
      "Accuracy = 96.9842% (1415/1459) (classification)\n",
      "time =  0.007230281829833984\n",
      "Accuracy = 59.4243% (867/1459) (classification)\n",
      "time =  0.06146883964538574\n",
      "Accuracy = 95.682% (1396/1459) (classification)\n",
      "time =  0.133406400680542\n",
      "Accuracy = 96.2303% (1404/1459) (classification)\n",
      "time =  0.26004815101623535\n",
      "Accuracy = 96.8472% (1413/1459) (classification)\n",
      "time =  0.5513737201690674\n",
      "Accuracy = 96.7786% (1412/1459) (classification)\n",
      "time =  0.6226985454559326\n",
      "Accuracy = 97.0528% (1416/1459) (classification)\n",
      "time =  0.0072269439697265625\n",
      "Accuracy = 59.4243% (867/1459) (classification)\n",
      "time =  0.059722900390625\n",
      "Accuracy = 95.8191% (1398/1459) (classification)\n",
      "time =  0.13178157806396484\n",
      "Accuracy = 96.3674% (1406/1459) (classification)\n",
      "time =  0.2522618770599365\n",
      "Accuracy = 96.5045% (1408/1459) (classification)\n",
      "time =  0.42894601821899414\n",
      "Accuracy = 96.6415% (1410/1459) (classification)\n",
      "time =  0.5642189979553223\n",
      "Accuracy = 97.0528% (1416/1459) (classification)\n",
      "       m        acc         λ\n",
      "0      1  59.424263       λ=1\n",
      "1    200  94.448252       λ=1\n",
      "2    400  95.544894       λ=1\n",
      "3    600  96.024674       λ=1\n",
      "4    800  96.298835       λ=1\n",
      "5   1000  96.572995       λ=1\n",
      "6      1  59.424263     λ=0.1\n",
      "7    200  95.819054     λ=0.1\n",
      "8    400  96.778615     λ=0.1\n",
      "9    600  96.641535     λ=0.1\n",
      "10   800  96.984236     λ=0.1\n",
      "11  1000  97.464016     λ=0.1\n",
      "12     1  59.424263    λ=0.01\n",
      "13   200  95.681974    λ=0.01\n",
      "14   400  96.504455    λ=0.01\n",
      "15   600  97.121316    λ=0.01\n",
      "16   800  96.984236    λ=0.01\n",
      "17  1000  97.532557    λ=0.01\n",
      "18     1  59.424263   λ=0.001\n",
      "19   200  95.819054   λ=0.001\n",
      "20   400  96.367375   λ=0.001\n",
      "21   600  96.710075   λ=0.001\n",
      "22   800  96.915696   λ=0.001\n",
      "23  1000  97.189856   λ=0.001\n",
      "24     1  59.424263  λ=0.0001\n",
      "25   200  95.544894  λ=0.0001\n",
      "26   400  96.230295  λ=0.0001\n",
      "27   600  96.298835  λ=0.0001\n",
      "28   800  96.710075  λ=0.0001\n",
      "29  1000  96.984236  λ=0.0001\n",
      "30     1  59.424263   λ=1e-05\n",
      "31   200  95.681974   λ=1e-05\n",
      "32   400  96.230295   λ=1e-05\n",
      "33   600  96.847156   λ=1e-05\n",
      "34   800  96.778615   λ=1e-05\n",
      "35  1000  97.052776   λ=1e-05\n",
      "36     1  59.424263   λ=1e-06\n",
      "37   200  95.819054   λ=1e-06\n",
      "38   400  96.367375   λ=1e-06\n",
      "39   600  96.504455   λ=1e-06\n",
      "40   800  96.641535   λ=1e-06\n",
      "41  1000  97.052776   λ=1e-06\n"
     ]
    },
    {
     "data": {
      "image/png": "[encoded data removed]",
      "text/plain": [
       "<Figure size 432x288 with 1 Axes>"
      ]
     },
     "metadata": {
      "needs_background": "light"
     },
     "output_type": "display_data"
    }
   ],
   "source": [
    "m_list = [1, 200, 400,600,800, 1000]\n",
    "lambda_list = [1, 0.1, 0.01 , 1e-03, 1e-04, 1e-05, 1e-06]\n",
    "\n",
    "#m_list = [1, 200, 400,600,800, 1000]\n",
    "#lambda_list = [1, 0.8, 0.6, 0.3, 0.1, 0.01, 0.001]\n",
    "\n",
    "#m_list = [400]\n",
    "#lambda_list = [0.01]\n",
    "\n",
    "em_blocks.exec(X_train, y_train, m_list, lambda_list)"
   ]
  },
  {
   "cell_type": "code",
   "execution_count": 9,
   "id": "dedicated-hacker",
   "metadata": {},
   "outputs": [
    {
     "data": {
      "text/plain": [
       "array([0.   , 0.   , 0.   , 0.   , 0.   , 0.   , 0.   , 0.369, 1.862,\n",
       "       0.833, 0.   , 0.   , 0.   , 0.   , 0.   , 0.   , 0.   , 0.   ,\n",
       "       0.   , 0.   , 0.   , 0.   , 0.008, 1.297, 2.   , 1.307, 0.   ,\n",
       "       0.   , 0.   , 0.   , 0.   , 0.   , 0.   , 0.   , 0.   , 0.   ,\n",
       "       0.   , 0.   , 0.59 , 2.   , 1.986, 0.435, 0.   , 0.   , 0.   ,\n",
       "       0.   , 0.   , 0.   , 0.   , 0.   , 0.   , 0.   , 0.   , 0.317,\n",
       "       1.825, 2.   , 1.562, 0.   , 0.   , 0.   , 0.   , 0.   , 0.   ,\n",
       "       0.   , 0.   , 0.   , 0.   , 0.   , 0.062, 1.54 , 2.   , 1.778,\n",
       "       0.285, 0.   , 0.   , 0.   , 0.   , 0.   , 0.   , 0.   , 0.   ,\n",
       "       0.   , 0.   , 0.   , 1.1  , 2.   , 1.922, 0.561, 0.   , 0.   ,\n",
       "       0.   , 0.   , 0.   , 0.   , 0.   , 0.   , 0.   , 0.   , 0.   ,\n",
       "       0.743, 1.95 , 2.   , 0.838, 0.   , 0.   , 0.   , 0.013, 0.286,\n",
       "       0.168, 0.   , 0.   , 0.   , 0.   , 0.   , 0.203, 1.909, 2.   ,\n",
       "       1.3  , 0.039, 0.   , 0.   , 0.45 , 1.485, 1.996, 1.867, 1.092,\n",
       "       0.   , 0.   , 0.   , 0.   , 1.278, 2.   , 1.877, 0.176, 0.   ,\n",
       "       0.095, 1.145, 1.977, 2.   , 2.   , 2.   , 1.99 , 0.255, 0.   ,\n",
       "       0.   , 0.05 , 1.847, 2.   , 1.327, 0.   , 0.   , 1.355, 2.   ,\n",
       "       1.655, 0.891, 0.815, 2.   , 1.988, 0.277, 0.   , 0.   , 0.37 ,\n",
       "       2.   , 2.   , 1.068, 0.075, 1.113, 1.96 , 1.308, 0.116, 0.   ,\n",
       "       0.925, 2.   , 1.641, 0.005, 0.   , 0.   , 0.323, 2.   , 2.   ,\n",
       "       1.753, 1.341, 2.   , 1.707, 0.058, 0.   , 0.   , 1.545, 2.   ,\n",
       "       1.027, 0.   , 0.   , 0.   , 0.097, 1.792, 2.   , 2.   , 2.   ,\n",
       "       2.   , 1.536, 1.184, 1.812, 1.837, 1.978, 1.864, 0.37 , 0.   ,\n",
       "       0.   , 0.   , 0.   , 0.548, 1.828, 2.   , 2.   , 2.   , 2.   ,\n",
       "       2.   , 2.   , 2.   , 2.   , 1.135, 0.   , 0.   , 0.   , 0.   ,\n",
       "       0.   , 0.   , 0.517, 1.813, 2.   , 2.   , 2.   , 2.   , 2.   ,\n",
       "       2.   , 1.219, 0.057, 0.   , 0.   , 0.   , 0.   , 0.   , 0.   ,\n",
       "       0.   , 0.026, 0.571, 1.304, 1.823, 2.   , 1.482, 0.526, 0.009,\n",
       "       0.   , 0.   , 0.   , 0.   ])"
      ]
     },
     "execution_count": 9,
     "metadata": {},
     "output_type": "execute_result"
    }
   ],
   "source": []
  },
  {
   "cell_type": "code",
   "execution_count": 5,
   "id": "hollywood-attribute",
   "metadata": {},
   "outputs": [
    {
     "name": "stdout",
     "output_type": "stream",
     "text": [
      "m = 400\n"
     ]
    },
    {
     "name": "stderr",
     "output_type": "stream",
     "text": [
      "/home/henryrodriguez/Documentos/Estudio/MSc/AML/Project/embedd_blocks.py:68: RuntimeWarning: invalid value encountered in sqrt\n",
      "  D_root=D**(0.5)\n"
     ]
    },
    {
     "name": "stdout",
     "output_type": "stream",
     "text": [
      "time =  0.9613502025604248\n"
     ]
    },
    {
     "name": "stderr",
     "output_type": "stream",
     "text": [
      "/home/henryrodriguez/anaconda3/envs/AML/lib/python3.8/site-packages/liblinear/commonutil.py:80: RuntimeWarning: Mean of empty slice.\n",
      "  ACC = 100.0*(ty == pv).mean()\n",
      "/home/henryrodriguez/anaconda3/envs/AML/lib/python3.8/site-packages/numpy/core/_methods.py:170: RuntimeWarning: invalid value encountered in double_scalars\n",
      "  ret = ret.dtype.type(ret / rcount)\n",
      "/home/henryrodriguez/anaconda3/envs/AML/lib/python3.8/site-packages/liblinear/commonutil.py:81: RuntimeWarning: Mean of empty slice.\n",
      "  MSE = ((ty - pv)**2).mean()\n"
     ]
    },
    {
     "ename": "ValueError",
     "evalue": "cannot convert float NaN to integer",
     "output_type": "error",
     "traceback": [
      "\u001b[0;31m---------------------------------------------------------------------------\u001b[0m",
      "\u001b[0;31mValueError\u001b[0m                                Traceback (most recent call last)",
      "\u001b[0;32m<ipython-input-5-626e8e88d519>\u001b[0m in \u001b[0;36m<module>\u001b[0;34m\u001b[0m\n\u001b[0;32m----> 1\u001b[0;31m \u001b[0mem_blocks\u001b[0m\u001b[0;34m.\u001b[0m\u001b[0mexec2\u001b[0m\u001b[0;34m(\u001b[0m\u001b[0mX_train\u001b[0m\u001b[0;34m,\u001b[0m \u001b[0my_train\u001b[0m\u001b[0;34m,\u001b[0m \u001b[0mm_list\u001b[0m\u001b[0;34m,\u001b[0m \u001b[0mlambda_list\u001b[0m\u001b[0;34m)\u001b[0m\u001b[0;34m\u001b[0m\u001b[0;34m\u001b[0m\u001b[0m\n\u001b[0m",
      "\u001b[0;32m~/Documentos/Estudio/MSc/AML/Project/embedd_blocks.py\u001b[0m in \u001b[0;36mexec2\u001b[0;34m(X, y, m_list, lambda_list)\u001b[0m\n\u001b[1;32m    124\u001b[0m             \u001b[0mX_m\u001b[0m\u001b[0;34m=\u001b[0m\u001b[0mcalculate_embedd_blocks\u001b[0m\u001b[0;34m(\u001b[0m\u001b[0mX\u001b[0m\u001b[0;34m,\u001b[0m\u001b[0my\u001b[0m\u001b[0;34m,\u001b[0m\u001b[0mm\u001b[0m\u001b[0;34m)\u001b[0m\u001b[0;34m\u001b[0m\u001b[0;34m\u001b[0m\u001b[0m\n\u001b[1;32m    125\u001b[0m             \u001b[0mmodel\u001b[0m \u001b[0;34m=\u001b[0m \u001b[0mtrain\u001b[0m\u001b[0;34m(\u001b[0m\u001b[0my\u001b[0m\u001b[0;34m[\u001b[0m\u001b[0;34m:\u001b[0m\u001b[0;36m80000\u001b[0m\u001b[0;34m]\u001b[0m\u001b[0;34m,\u001b[0m \u001b[0mX_m\u001b[0m\u001b[0;34m[\u001b[0m\u001b[0;34m:\u001b[0m\u001b[0;36m80000\u001b[0m\u001b[0;34m]\u001b[0m\u001b[0;34m,\u001b[0m \u001b[0;34m'-s 3 -c {}'\u001b[0m\u001b[0;34m.\u001b[0m\u001b[0mformat\u001b[0m\u001b[0;34m(\u001b[0m\u001b[0;36m1.\u001b[0m\u001b[0;34m/\u001b[0m\u001b[0;34m(\u001b[0m\u001b[0;36m2.\u001b[0m\u001b[0;34m*\u001b[0m\u001b[0mlam\u001b[0m\u001b[0;34m)\u001b[0m\u001b[0;34m)\u001b[0m\u001b[0;34m)\u001b[0m\u001b[0;34m\u001b[0m\u001b[0;34m\u001b[0m\u001b[0m\n\u001b[0;32m--> 126\u001b[0;31m             \u001b[0mp_label\u001b[0m\u001b[0;34m,\u001b[0m \u001b[0mp_acc\u001b[0m\u001b[0;34m,\u001b[0m \u001b[0mp_val\u001b[0m \u001b[0;34m=\u001b[0m \u001b[0mpredict\u001b[0m\u001b[0;34m(\u001b[0m\u001b[0my\u001b[0m\u001b[0;34m[\u001b[0m\u001b[0;36m80000\u001b[0m\u001b[0;34m:\u001b[0m\u001b[0;34m]\u001b[0m\u001b[0;34m,\u001b[0m \u001b[0mX_m\u001b[0m\u001b[0;34m[\u001b[0m\u001b[0;36m80000\u001b[0m\u001b[0;34m:\u001b[0m\u001b[0;34m]\u001b[0m\u001b[0;34m,\u001b[0m \u001b[0mmodel\u001b[0m\u001b[0;34m)\u001b[0m\u001b[0;34m\u001b[0m\u001b[0;34m\u001b[0m\u001b[0m\n\u001b[0m\u001b[1;32m    127\u001b[0m             \u001b[0moutput\u001b[0m\u001b[0;34m[\u001b[0m\u001b[0mj\u001b[0m\u001b[0;34m,\u001b[0m\u001b[0mi\u001b[0m\u001b[0;34m]\u001b[0m\u001b[0;34m=\u001b[0m\u001b[0mp_acc\u001b[0m\u001b[0;34m[\u001b[0m\u001b[0;36m0\u001b[0m\u001b[0;34m]\u001b[0m\u001b[0;34m\u001b[0m\u001b[0;34m\u001b[0m\u001b[0m\n\u001b[1;32m    128\u001b[0m     \u001b[0moutput\u001b[0m\u001b[0;34m=\u001b[0m\u001b[0mpd\u001b[0m\u001b[0;34m.\u001b[0m\u001b[0mDataFrame\u001b[0m\u001b[0;34m(\u001b[0m\u001b[0moutput\u001b[0m\u001b[0;34m,\u001b[0m\u001b[0mindex\u001b[0m\u001b[0;34m=\u001b[0m\u001b[0mlambda_list\u001b[0m\u001b[0;34m,\u001b[0m\u001b[0mcolumns\u001b[0m\u001b[0;34m=\u001b[0m\u001b[0mm_list\u001b[0m\u001b[0;34m)\u001b[0m\u001b[0;34m\u001b[0m\u001b[0;34m\u001b[0m\u001b[0m\n",
      "\u001b[0;32m~/anaconda3/envs/AML/lib/python3.8/site-packages/liblinear/liblinearutil.py\u001b[0m in \u001b[0;36mpredict\u001b[0;34m(y, x, m, options)\u001b[0m\n\u001b[1;32m    278\u001b[0m         \u001b[0minfo\u001b[0m\u001b[0;34m(\u001b[0m\u001b[0;34m\"Squared correlation coefficient = %g (regression)\"\u001b[0m \u001b[0;34m%\u001b[0m \u001b[0mSCC\u001b[0m\u001b[0;34m)\u001b[0m\u001b[0;34m\u001b[0m\u001b[0;34m\u001b[0m\u001b[0m\n\u001b[1;32m    279\u001b[0m     \u001b[0;32melse\u001b[0m\u001b[0;34m:\u001b[0m\u001b[0;34m\u001b[0m\u001b[0;34m\u001b[0m\u001b[0m\n\u001b[0;32m--> 280\u001b[0;31m         \u001b[0minfo\u001b[0m\u001b[0;34m(\u001b[0m\u001b[0;34m\"Accuracy = %g%% (%d/%d) (classification)\"\u001b[0m \u001b[0;34m%\u001b[0m \u001b[0;34m(\u001b[0m\u001b[0mACC\u001b[0m\u001b[0;34m,\u001b[0m \u001b[0mint\u001b[0m\u001b[0;34m(\u001b[0m\u001b[0mround\u001b[0m\u001b[0;34m(\u001b[0m\u001b[0mnr_instance\u001b[0m\u001b[0;34m*\u001b[0m\u001b[0mACC\u001b[0m\u001b[0;34m/\u001b[0m\u001b[0;36m100\u001b[0m\u001b[0;34m)\u001b[0m\u001b[0;34m)\u001b[0m\u001b[0;34m,\u001b[0m \u001b[0mnr_instance\u001b[0m\u001b[0;34m)\u001b[0m\u001b[0;34m)\u001b[0m\u001b[0;34m\u001b[0m\u001b[0;34m\u001b[0m\u001b[0m\n\u001b[0m\u001b[1;32m    281\u001b[0m \u001b[0;34m\u001b[0m\u001b[0m\n\u001b[1;32m    282\u001b[0m     \u001b[0;32mreturn\u001b[0m \u001b[0mpred_labels\u001b[0m\u001b[0;34m,\u001b[0m \u001b[0;34m(\u001b[0m\u001b[0mACC\u001b[0m\u001b[0;34m,\u001b[0m \u001b[0mMSE\u001b[0m\u001b[0;34m,\u001b[0m \u001b[0mSCC\u001b[0m\u001b[0;34m)\u001b[0m\u001b[0;34m,\u001b[0m \u001b[0mpred_values\u001b[0m\u001b[0;34m\u001b[0m\u001b[0;34m\u001b[0m\u001b[0m\n",
      "\u001b[0;31mValueError\u001b[0m: cannot convert float NaN to integer"
     ]
    }
   ],
   "source": [
    "em_blocks.exec2(X_train, y_train, m_list, lambda_list)"
   ]
  },
  {
   "cell_type": "code",
   "execution_count": 4,
   "id": "721463c4",
   "metadata": {},
   "outputs": [
    {
     "name": "stdout",
     "output_type": "stream",
     "text": [
      "acc 0.80966 in 1.853590 seconds\n"
     ]
    }
   ],
   "source": [
    "model = pegasos.PegasosSVMClassifier()\n",
    "start = time.time()\n",
    "model.fit(X_train.toarray(), y_train)\n",
    "end = time.time()\n",
    "score = model.score(X_test.toarray(), y_test)\n",
    "\n",
    "print('acc %.5f in %f seconds' % (score, end-start))"
   ]
  },
  {
   "cell_type": "code",
   "execution_count": null,
   "id": "cbbe6567",
   "metadata": {},
   "outputs": [],
   "source": []
  }
 ],
 "metadata": {
  "kernelspec": {
   "display_name": "Python 3",
   "language": "python",
   "name": "python3"
  },
  "language_info": {
   "codemirror_mode": {
    "name": "ipython",
    "version": 3
   },
   "file_extension": ".py",
   "mimetype": "text/x-python",
   "name": "python",
   "nbconvert_exporter": "python",
   "pygments_lexer": "ipython3",
   "version": "3.8.8"
  }
 },
 "nbformat": 4,
 "nbformat_minor": 5
}
